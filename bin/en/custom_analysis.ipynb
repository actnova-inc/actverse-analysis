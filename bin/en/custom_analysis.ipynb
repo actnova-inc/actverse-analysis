{
 "cells": [
  {
   "cell_type": "markdown",
   "metadata": {},
   "source": [
    "# Actverse Behavior Analysis"
   ]
  },
  {
   "cell_type": "markdown",
   "metadata": {},
   "source": [
    "## 1. Start"
   ]
  },
  {
   "cell_type": "code",
   "execution_count": null,
   "metadata": {},
   "outputs": [],
   "source": [
    "! pip install actverse@git+https://github.com/actnova-inc/actverse-analysis"
   ]
  },
  {
   "cell_type": "markdown",
   "metadata": {},
   "source": [
    "## 2. Prepare for Analysis"
   ]
  },
  {
   "cell_type": "code",
   "execution_count": null,
   "metadata": {},
   "outputs": [],
   "source": [
    "from actverse.utils import load_json\n",
    "\n",
    "json_path = input(\"Downloadable url or local file path:\")\n",
    "\n",
    "prediction = load_json(json_path)"
   ]
  },
  {
   "cell_type": "code",
   "execution_count": null,
   "metadata": {},
   "outputs": [],
   "source": [
    "from actverse.utils.notebook import display_body_parts_checkbox\n",
    "\n",
    "checkboxes = display_body_parts_checkbox(\n",
    "    description=\"Please select the body parts you want to analyze.\", lang=\"en\"\n",
    ")"
   ]
  },
  {
   "cell_type": "code",
   "execution_count": null,
   "metadata": {},
   "outputs": [],
   "source": [
    "from actverse.utils.notebook import get_checked\n",
    "\n",
    "body_parts = get_checked(checkboxes)\n",
    "body_part_names = [str(body_part) for body_part in body_parts]\n",
    "print(\"Selected body parts:\", \", \".join(body_part_names))"
   ]
  },
  {
   "cell_type": "markdown",
   "metadata": {},
   "source": [
    "## 3. Analyze Behavior"
   ]
  },
  {
   "cell_type": "code",
   "execution_count": null,
   "metadata": {},
   "outputs": [],
   "source": [
    "from actverse.analysis import measure_physical_metrics\n",
    "\n",
    "metrics, ids = measure_physical_metrics(prediction, body_parts)"
   ]
  },
  {
   "cell_type": "markdown",
   "metadata": {},
   "source": [
    "## 4. View Results"
   ]
  },
  {
   "cell_type": "markdown",
   "metadata": {},
   "source": [
    "Movement Metrics"
   ]
  },
  {
   "cell_type": "code",
   "execution_count": null,
   "metadata": {},
   "outputs": [],
   "source": [
    "img_width = prediction[\"metadata\"][\"origin_width\"]\n",
    "img_height = prediction[\"metadata\"][\"origin_height\"]"
   ]
  },
  {
   "cell_type": "code",
   "execution_count": null,
   "metadata": {},
   "outputs": [],
   "source": [
    "import plotly.graph_objects as go\n",
    "from plotly.subplots import make_subplots\n",
    "\n",
    "from actverse.utils import moving_average\n",
    "\n",
    "mouse_id = ids[0]\n",
    "\n",
    "unit_width = 400\n",
    "unit_height = 350\n",
    "\n",
    "# first plot\n",
    "fig1 = make_subplots(rows=1, cols=len(body_parts), subplot_titles=body_part_names)\n",
    "for i, body_part in enumerate(body_parts):\n",
    "    x = metrics[mouse_id][body_part][\"timestamp\"]\n",
    "    y_1 = metrics[mouse_id][body_part][\"cumulative_distance_change\"]\n",
    "    go_1 = go.Scatter(x=x, y=y_1, mode=\"lines\", name=str(body_part))\n",
    "    fig1.add_trace(go_1, row=1, col=i + 1)\n",
    "    fig1.update_xaxes(title_text=\"Time (s)\", row=1, col=i + 1)\n",
    "    fig1.update_yaxes(title_text=\"Distance (Pixel)\", row=1, col=i + 1)\n",
    "fig1.update_layout(\n",
    "    title=\"Distance Moved\", height=unit_height, width=unit_width * len(body_parts)\n",
    ")\n",
    "fig1.show()\n",
    "\n",
    "# second plot\n",
    "fig2 = make_subplots(rows=1, cols=len(body_parts), subplot_titles=body_part_names)\n",
    "for i, body_part in enumerate(body_parts):\n",
    "    x = metrics[mouse_id][body_part][\"timestamp\"]\n",
    "    position = metrics[mouse_id][body_part][\"speed\"]\n",
    "    go_2 = go.Scatter(x=x, y=position, mode=\"lines\", name=str(body_part))\n",
    "    fig2.add_trace(go_2, row=1, col=i + 1)\n",
    "    fig2.update_xaxes(title_text=\"Time (s)\", row=1, col=i + 1)\n",
    "    fig2.update_yaxes(title_text=\"Speed (pixel/s)\", row=1, col=i + 1)\n",
    "fig2.update_layout(\n",
    "    title=\"Speed\", height=unit_height, width=unit_width * len(body_parts)\n",
    ")\n",
    "fig2.show()\n",
    "\n",
    "# third subplot\n",
    "fig3 = make_subplots(rows=1, cols=len(body_parts), subplot_titles=body_part_names)\n",
    "for i, body_part in enumerate(body_parts):\n",
    "    x = metrics[mouse_id][body_part][\"timestamp\"]\n",
    "    y_3 = moving_average(metrics[mouse_id][body_part][\"speed\"], 25)\n",
    "    go_3 = go.Scatter(x=x, y=y_3, mode=\"lines\", name=str(body_part))\n",
    "    fig3.add_trace(go_3, row=1, col=i + 1)\n",
    "    fig3.update_xaxes(title_text=\"Time (s)\", row=1, col=i + 1)\n",
    "    fig3.update_yaxes(title_text=\"Speed (pixel/s)\", row=1, col=i + 1)\n",
    "fig3.update_layout(\n",
    "    title=\"Speed (Smoothed)\", height=unit_height, width=unit_width * len(body_parts)\n",
    ")\n",
    "fig3.show()\n",
    "\n",
    "# fourth subplot\n",
    "fig4 = make_subplots(rows=1, cols=len(body_parts), subplot_titles=body_part_names)\n",
    "for i, body_part in enumerate(body_parts):\n",
    "    x = metrics[mouse_id][body_part][\"timestamp\"]\n",
    "    y_4 = metrics[mouse_id][body_part][\"speed\"]\n",
    "    go_4 = go.Histogram(x=y_4, xbins=dict(size=1), name=str(body_part))\n",
    "    fig4.add_trace(go_4, row=1, col=i + 1)\n",
    "    fig4.update_xaxes(title_text=\"Speed (pixel/s)\", row=1, col=i + 1)\n",
    "    fig4.update_yaxes(title_text=\"Frequency\", row=1, col=i + 1)\n",
    "fig4.update_layout(\n",
    "    title=\"Speed (Histogram)\", height=unit_height, width=unit_width * len(body_parts)\n",
    ")\n",
    "fig4.show()\n",
    "\n",
    "#  fifth subplot\n",
    "fig5 = make_subplots(rows=1, cols=len(body_parts), subplot_titles=body_part_names)\n",
    "for i, body_part in enumerate(body_parts):\n",
    "    x = metrics[mouse_id][body_part][\"timestamp\"]\n",
    "    y_5 = metrics[mouse_id][body_part][\"average_speed\"]\n",
    "    go_5 = go.Scatter(x=x, y=y_5, mode=\"lines\", name=str(body_part))\n",
    "    fig5.add_trace(go_5, row=1, col=i + 1)\n",
    "    fig5.update_xaxes(title_text=\"Time (s)\", row=1, col=i + 1)\n",
    "    fig5.update_yaxes(title_text=\"Speed (pixel/s)\", row=1, col=i + 1)\n",
    "fig5.update_layout(\n",
    "    title=\"Average Speed\", height=unit_height, width=unit_width * len(body_parts)\n",
    ")\n",
    "fig5.show()"
   ]
  },
  {
   "cell_type": "markdown",
   "metadata": {},
   "source": [
    "Direction Metrics"
   ]
  },
  {
   "cell_type": "code",
   "execution_count": null,
   "metadata": {},
   "outputs": [],
   "source": [
    "mouse_id = ids[0]\n",
    "\n",
    "# subplot for ploty\n",
    "n_rows, n_cols = 3, 2\n",
    "fig = make_subplots(\n",
    "    rows=n_rows,\n",
    "    cols=n_cols,\n",
    "    subplot_titles=[\n",
    "        \"Body Angle\",\n",
    "        \"Angular Speed\",\n",
    "        \"Angular Speed (Smoothed)\",\n",
    "        \"Body Angle (Histogram)\",\n",
    "        \"Angular Speed (Histogram)\",\n",
    "    ],\n",
    "    vertical_spacing=0.1,\n",
    "    horizontal_spacing=0.1,\n",
    ")\n",
    "\n",
    "x = metrics[mouse_id][\"body center\"][\"timestamp\"]\n",
    "\n",
    "# first subplot\n",
    "y_1 = metrics[mouse_id][\"body center\"][\"angle\"]\n",
    "go_1 = go.Scatter(x=x, y=y_1, mode=\"lines\", name=\"Body Angle\")\n",
    "fig.add_trace(go_1, row=1, col=1)\n",
    "fig.update_xaxes(title_text=\"Time (s)\", row=1, col=1)\n",
    "fig.update_yaxes(title_text=\"Angle (degree)\", row=1, col=1)\n",
    "\n",
    "# second subplot\n",
    "position = metrics[mouse_id][\"body center\"][\"angular_speed\"]\n",
    "go_2 = go.Scatter(x=x, y=position, mode=\"lines\", name=\"Angular Speed\")\n",
    "fig.add_trace(go_2, row=1, col=2)\n",
    "fig.update_xaxes(title_text=\"Time (s)\", row=1, col=2)\n",
    "fig.update_yaxes(title_text=\"Angular Speed (degree/s)\", row=1, col=2)\n",
    "\n",
    "# third subplot\n",
    "y_3 = moving_average(metrics[mouse_id][\"body center\"][\"angular_speed\"], 25)\n",
    "go_3 = go.Scatter(x=x, y=y_3, mode=\"lines\", name=\"Angular Speed (Smoothed)\")\n",
    "fig.add_trace(go_3, row=2, col=1)\n",
    "fig.update_xaxes(title_text=\"Time (s)\", row=2, col=1)\n",
    "fig.update_yaxes(title_text=\"Angular Speed (degree/s)\", row=2, col=1)\n",
    "\n",
    "# fourth subplot\n",
    "y_4 = metrics[mouse_id][\"body center\"][\"angle\"]\n",
    "go_4 = go.Histogram(x=y_4, xbins=dict(size=1), name=\"Body Angle (Histogram)\")\n",
    "fig.add_trace(go_4, row=2, col=2)\n",
    "fig.update_xaxes(title_text=\"Angle (degree)\", row=2, col=2)\n",
    "fig.update_yaxes(title_text=\"Frequency\", row=2, col=2)\n",
    "\n",
    "# fifth subplot\n",
    "y_5 = metrics[mouse_id][\"body center\"][\"angular_speed\"]\n",
    "go_5 = go.Histogram(x=y_5, xbins=dict(size=1), name=\"Angular Speed (Histogram)\")\n",
    "fig.add_trace(go_5, row=3, col=1)\n",
    "fig.update_xaxes(title_text=\"Angular Speed (degree/s)\", row=3, col=1)\n",
    "fig.update_yaxes(title_text=\"Frequency\", row=3, col=1)\n",
    "\n",
    "fig.update_layout(title=\"Direction Metrics\", height=1000, width=1000, showlegend=False)\n",
    "fig.show()"
   ]
  },
  {
   "cell_type": "markdown",
   "metadata": {},
   "source": [
    "Position Metrics"
   ]
  },
  {
   "cell_type": "code",
   "execution_count": null,
   "metadata": {},
   "outputs": [],
   "source": [
    "import numpy as np\n",
    "\n",
    "mouse_id = ids[0]\n",
    "\n",
    "unit_width = 400\n",
    "unit_height = 400\n",
    "\n",
    "# first plot\n",
    "fig1 = make_subplots(rows=1, cols=len(body_parts), subplot_titles=body_part_names)\n",
    "\n",
    "for i, body_part in enumerate(body_parts):\n",
    "    position = np.array(metrics[mouse_id][body_part][\"position\"])\n",
    "    timestamp = metrics[mouse_id][body_part][\"timestamp\"]\n",
    "    num_points = len(position)\n",
    "    colors = np.linspace(0, 1, num_points - 1)\n",
    "    fig1.add_trace(\n",
    "        go.Scatter(\n",
    "            x=position[:, 0],\n",
    "            y=position[:, 1],\n",
    "            mode=\"markers+lines\",\n",
    "            marker=dict(\n",
    "                size=4,\n",
    "                color=timestamp,\n",
    "                colorscale=\"Viridis\",\n",
    "                colorbar=dict(title=\"Time (s)\") if i == 0 else None,\n",
    "            ),\n",
    "            line=dict(color=\"rgba(0,0,0,0.3)\"),\n",
    "        ),\n",
    "        row=1,\n",
    "        col=i + 1,\n",
    "    )\n",
    "    fig1.update_xaxes(range=[0, img_width], row=1, col=i + 1)\n",
    "    fig1.update_yaxes(range=[0, img_height], row=1, col=i + 1)\n",
    "fig1.update_layout(\n",
    "    title=\"Trajectory\",\n",
    "    height=unit_height,\n",
    "    width=unit_width * len(body_parts),\n",
    "    showlegend=False,\n",
    ")\n",
    "fig1.show()\n",
    "\n",
    "# second plot\n",
    "fig2 = make_subplots(rows=1, cols=len(body_parts), subplot_titles=body_part_names)\n",
    "for i, body_part in enumerate(body_parts):\n",
    "    position = np.array(metrics[mouse_id][body_part][\"position\"])\n",
    "    histgram_2d, x_edges, y_edges = np.histogram2d(\n",
    "        position[:, 0],\n",
    "        position[:, 1],\n",
    "        bins=(50, 50),\n",
    "        range=[[0, img_width], [0, img_height]],\n",
    "    )\n",
    "    go_2 = go.Heatmap(z=histgram_2d, x=x_edges, y=y_edges)\n",
    "    go_2.colorbar.update(\n",
    "        tickmode=\"array\",\n",
    "        tickvals=[histgram_2d.min(), histgram_2d.max()],\n",
    "        ticktext=[\"Low\", \"High\"],\n",
    "    )\n",
    "    fig2.add_trace(go_2, row=1, col=i + 1)\n",
    "    fig2.update_xaxes(range=[0, img_width], row=1, col=i + 1)\n",
    "    fig2.update_yaxes(range=[0, img_height], row=1, col=i + 1)\n",
    "\n",
    "fig2.update_layout(\n",
    "    title=\"Heatmap\",\n",
    "    height=unit_height,\n",
    "    width=unit_width * len(body_parts),\n",
    ")\n",
    "fig2.show()"
   ]
  }
 ],
 "metadata": {
  "kernelspec": {
   "display_name": "Python 3",
   "language": "python",
   "name": "python3"
  },
  "language_info": {
   "codemirror_mode": {
    "name": "ipython",
    "version": 3
   },
   "file_extension": ".py",
   "mimetype": "text/x-python",
   "name": "python",
   "nbconvert_exporter": "python",
   "pygments_lexer": "ipython3",
   "version": "3.10.12"
  }
 },
 "nbformat": 4,
 "nbformat_minor": 2
}
