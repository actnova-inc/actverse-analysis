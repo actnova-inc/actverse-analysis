{
 "cells": [
  {
   "cell_type": "markdown",
   "metadata": {},
   "source": [
    "# Actverse Analysis"
   ]
  },
  {
   "cell_type": "markdown",
   "metadata": {},
   "source": [
    "## 1. actverse analysis 설치"
   ]
  },
  {
   "cell_type": "code",
   "execution_count": null,
   "metadata": {},
   "outputs": [],
   "source": [
    "\"\"\"colab setup\"\"\"\n",
    "! pip install actverse@git+https://github.com/actnova-inc/actverse-analysis\n",
    "\n",
    "\"\"\"local setup\"\"\"\n",
    "# ! pip install ../../\n",
    "\n",
    "\"\"\"common setup\"\"\"\n",
    "! pip install matplotlib"
   ]
  },
  {
   "cell_type": "markdown",
   "metadata": {},
   "source": [
    "## 1. actverse 결과 로드\n",
    "actverse-web으로 부터 얻은 prediction url 또는 로컬 파일의 경로를 입력"
   ]
  },
  {
   "cell_type": "code",
   "execution_count": null,
   "metadata": {},
   "outputs": [],
   "source": [
    "from actverse.utils import load_json\n",
    "\n",
    "json_path = input(\"Downloadable url or local file path:\")\n",
    "\n",
    "prediction = load_json(json_path)"
   ]
  },
  {
   "cell_type": "markdown",
   "metadata": {},
   "source": [
    "## 2. 분석"
   ]
  },
  {
   "cell_type": "markdown",
   "metadata": {},
   "source": [
    "actverse-web부터 얻은 결과로 분석 수행\n"
   ]
  },
  {
   "cell_type": "code",
   "execution_count": null,
   "metadata": {},
   "outputs": [],
   "source": [
    "from actverse.analysis import measure_physical_metrics\n",
    "\n",
    "metrics, ids = measure_physical_metrics(prediction)"
   ]
  },
  {
   "cell_type": "markdown",
   "metadata": {},
   "source": [
    "## 3. 시각화"
   ]
  },
  {
   "cell_type": "markdown",
   "metadata": {},
   "source": [
    "이동 metrics 시각화 - 속력, 누적 이동 거리, 평균 속도 등"
   ]
  },
  {
   "cell_type": "code",
   "execution_count": null,
   "metadata": {},
   "outputs": [],
   "source": [
    "img_width = prediction[\"metadata\"][\"origin_width\"]\n",
    "img_height = prediction[\"metadata\"][\"origin_height\"]"
   ]
  },
  {
   "cell_type": "code",
   "execution_count": null,
   "metadata": {},
   "outputs": [],
   "source": [
    "import matplotlib.pyplot as plt\n",
    "\n",
    "from actverse.utils import moving_average\n",
    "\n",
    "mouse_id = ids[0]\n",
    "plt.figure(f\"movement-{mouse_id}\", figsize=(10, 10))\n",
    "plt.subplots_adjust(hspace=0.5)\n",
    "plt.subplots_adjust(wspace=0.25)\n",
    "\n",
    "n_rows, n_cols = 3, 2\n",
    "plt.subplot(n_rows, n_cols, 1)\n",
    "plt.title(\"Distance Moved\")\n",
    "plt.plot(\n",
    "    metrics[mouse_id][\"timestamp\"], metrics[mouse_id][\"cumulative_distance_change\"]\n",
    ")\n",
    "plt.ylabel(\"Distance (pixel)\")\n",
    "plt.xlabel(\"Time (s)\")\n",
    "\n",
    "plt.subplot(n_rows, n_cols, 2)\n",
    "plt.title(\"Speed\")\n",
    "plt.plot(metrics[mouse_id][\"timestamp\"], metrics[mouse_id][\"speed\"])\n",
    "plt.ylabel(\"Speed (pixel/s)\")\n",
    "plt.xlabel(\"Time (s)\")\n",
    "\n",
    "plt.subplot(n_rows, n_cols, 3)\n",
    "plt.title(\"Speed (Smoothed)\")\n",
    "smoothed_speed = moving_average(metrics[mouse_id][\"speed\"], 25)\n",
    "plt.plot(metrics[mouse_id][\"timestamp\"], smoothed_speed)\n",
    "plt.ylabel(\"Speed (pixel/s)\")\n",
    "plt.xlabel(\"Time (s)\")\n",
    "\n",
    "plt.subplot(n_rows, n_cols, 4)\n",
    "plt.title(\"Speed (histogram)\")\n",
    "plt.hist(metrics[mouse_id][\"speed\"], bins=50)\n",
    "plt.xlabel(\"Speed (pixel/s)\")\n",
    "plt.ylabel(\"Frequency\")\n",
    "\n",
    "plt.subplot(n_rows, n_cols, 5)\n",
    "plt.title(\"Average Speed\")\n",
    "plt.plot(metrics[mouse_id][\"timestamp\"], metrics[mouse_id][\"average_speed\"])\n",
    "plt.ylabel(\"Speed (pixel/s)\")\n",
    "plt.xlabel(\"Time (s)\")\n",
    "\n",
    "\n",
    "plt.show()"
   ]
  },
  {
   "cell_type": "markdown",
   "metadata": {},
   "source": [
    "방향 metrics 시각화 - 각도, 누적 각도 변화, 각속도"
   ]
  },
  {
   "cell_type": "code",
   "execution_count": null,
   "metadata": {},
   "outputs": [],
   "source": [
    "mouse_id = ids[0]\n",
    "plt.figure(f\"angle-{mouse_id}\", figsize=(10, 10))\n",
    "plt.subplots_adjust(hspace=0.5)\n",
    "plt.subplots_adjust(wspace=0.25)\n",
    "\n",
    "n_rows, n_cols = 3, 2\n",
    "plt.subplot(n_rows, n_cols, 1)\n",
    "plt.title(\"Body Angle\")\n",
    "plt.plot(metrics[mouse_id][\"timestamp\"], metrics[mouse_id][\"angle\"])\n",
    "plt.ylabel(\"Angle (degree)\")\n",
    "plt.xlabel(\"Time (s)\")\n",
    "\n",
    "plt.subplot(n_rows, n_cols, 2)\n",
    "plt.title(\"Angular Speed\")\n",
    "plt.plot(metrics[mouse_id][\"timestamp\"], metrics[mouse_id][\"angular_speed\"])\n",
    "plt.ylabel(\"Angular Speed (degree/s)\")\n",
    "plt.xlabel(\"Time (s)\")\n",
    "\n",
    "plt.subplot(n_rows, n_cols, 3)\n",
    "plt.title(\"Body Angle (histogram)\")\n",
    "plt.hist(metrics[mouse_id][\"angle\"], bins=50)\n",
    "plt.xlabel(\"Angle (degree)\")\n",
    "plt.ylabel(\"Frequency\")\n",
    "\n",
    "plt.subplot(n_rows, n_cols, 4)\n",
    "plt.title(\"Angular Speed (histogram)\")\n",
    "plt.hist(metrics[mouse_id][\"angular_speed\"], bins=50)\n",
    "plt.xlabel(\"Angular Speed (degree/s)\")\n",
    "plt.ylabel(\"Frequency\")\n",
    "\n",
    "plt.subplot(n_rows, n_cols, 5)\n",
    "plt.title(\"Angular Speed (Smoothed)\")\n",
    "smoothed_angular_speed = moving_average(metrics[mouse_id][\"angular_speed\"], 25)\n",
    "plt.plot(metrics[mouse_id][\"timestamp\"], smoothed_angular_speed)\n",
    "plt.ylabel(\"Angular Speed (degree/s)\")\n",
    "plt.xlabel(\"Time (s)\")"
   ]
  },
  {
   "cell_type": "markdown",
   "metadata": {},
   "source": [
    "위치 metrics 시각화 - trajectory 및 히트맵"
   ]
  },
  {
   "cell_type": "code",
   "execution_count": null,
   "metadata": {},
   "outputs": [],
   "source": [
    "import matplotlib.pyplot as plt\n",
    "import numpy as np\n",
    "\n",
    "\n",
    "def plot_lines(points, cmap_name=\"plasma\"):\n",
    "    cmap = plt.get_cmap(cmap_name, len(points))  # 컬러맵 설정\n",
    "\n",
    "    for i in range(len(points) - 1):\n",
    "        x0, y0 = points[i]\n",
    "        x1, y1 = points[i + 1]\n",
    "        color = cmap(i)\n",
    "        plt.plot([x0, x1], [y0, y1], linestyle=\"-\", color=color)\n",
    "\n",
    "\n",
    "mouse_id = ids[0]\n",
    "plt.figure(f\"position-{mouse_id}\", figsize=(10, 5))\n",
    "\n",
    "n_rows, n_cols = 1, 2\n",
    "plt.subplot(n_rows, n_cols, 1)\n",
    "plt.title(\"Trajectory\")\n",
    "\n",
    "plot_lines(metrics[mouse_id][\"position\"])\n",
    "plt.xlabel(\"X (pixel)\")\n",
    "plt.ylabel(\"Y (pixel)\")\n",
    "\n",
    "plt.subplot(n_rows, n_cols, 2)\n",
    "plt.title(\"Heatmap\")\n",
    "positions = np.array(metrics[mouse_id][\"position\"])\n",
    "plt.hist2d(\n",
    "    positions[:, 0],\n",
    "    positions[:, 1],\n",
    "    bins=50,\n",
    "    cmap=\"hot\",\n",
    ")\n",
    "plt.xlabel(\"X (pixel)\")\n",
    "plt.ylabel(\"Y (pixel)\")\n",
    "\n",
    "plt.show()"
   ]
  },
  {
   "cell_type": "code",
   "execution_count": null,
   "metadata": {},
   "outputs": [],
   "source": []
  },
  {
   "cell_type": "code",
   "execution_count": null,
   "metadata": {},
   "outputs": [],
   "source": []
  }
 ],
 "metadata": {
  "kernelspec": {
   "display_name": "Python 3",
   "language": "python",
   "name": "python3"
  },
  "language_info": {
   "codemirror_mode": {
    "name": "ipython",
    "version": 3
   },
   "file_extension": ".py",
   "mimetype": "text/x-python",
   "name": "python",
   "nbconvert_exporter": "python",
   "pygments_lexer": "ipython3",
   "version": "3.10.12"
  }
 },
 "nbformat": 4,
 "nbformat_minor": 2
}
