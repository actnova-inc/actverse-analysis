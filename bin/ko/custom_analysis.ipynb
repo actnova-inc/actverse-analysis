{
 "cells": [
  {
   "cell_type": "markdown",
   "metadata": {},
   "source": [
    "# Actverse Analysis"
   ]
  },
  {
   "cell_type": "markdown",
   "metadata": {},
   "source": [
    "## 1. actverse analysis 설치"
   ]
  },
  {
   "cell_type": "code",
   "execution_count": null,
   "metadata": {},
   "outputs": [],
   "source": [
    "\"\"\"colab setup\"\"\"\n",
    "! pip install actverse@git+https://github.com/actnova-inc/actverse-analysis\n",
    "\n",
    "\"\"\"local setup\"\"\"\n",
    "# ! pip install ../../"
   ]
  },
  {
   "cell_type": "markdown",
   "metadata": {},
   "source": [
    "## 2. actverse 결과 로드\n",
    "actverse-web으로 부터 얻은 prediction url 또는 로컬 파일의 경로를 입력"
   ]
  },
  {
   "cell_type": "code",
   "execution_count": null,
   "metadata": {},
   "outputs": [],
   "source": [
    "from actverse.utils import load_json\n",
    "\n",
    "json_path = input(\"Downloadable url or local file path:\")\n",
    "\n",
    "prediction = load_json(json_path)"
   ]
  },
  {
   "cell_type": "markdown",
   "metadata": {},
   "source": [
    "## 3. 분석"
   ]
  },
  {
   "cell_type": "markdown",
   "metadata": {},
   "source": [
    "actverse-web부터 얻은 결과로 분석 수행\n"
   ]
  },
  {
   "cell_type": "code",
   "execution_count": null,
   "metadata": {},
   "outputs": [],
   "source": [
    "from actverse.analysis import measure_physical_metrics\n",
    "\n",
    "metrics, ids = measure_physical_metrics(prediction)"
   ]
  },
  {
   "cell_type": "markdown",
   "metadata": {},
   "source": [
    "## 4. 시각화"
   ]
  },
  {
   "cell_type": "markdown",
   "metadata": {},
   "source": [
    "이동 metrics 시각화 - 속력, 누적 이동 거리, 평균 속도 등"
   ]
  },
  {
   "cell_type": "code",
   "execution_count": null,
   "metadata": {},
   "outputs": [],
   "source": [
    "img_width = prediction[\"metadata\"][\"origin_width\"]\n",
    "img_height = prediction[\"metadata\"][\"origin_height\"]"
   ]
  },
  {
   "cell_type": "code",
   "execution_count": null,
   "metadata": {},
   "outputs": [],
   "source": [
    "import plotly.graph_objects as go\n",
    "from plotly.subplots import make_subplots\n",
    "\n",
    "from actverse.utils import moving_average\n",
    "\n",
    "\n",
    "mouse_id = ids[0]\n",
    "\n",
    "# subplot for ploty\n",
    "n_rows, n_cols = 3, 2\n",
    "fig = make_subplots(\n",
    "    rows=n_rows,\n",
    "    cols=n_cols,\n",
    "    subplot_titles=[\n",
    "        \"Distance Moved\",\n",
    "        \"Speed\",\n",
    "        \"Speed (Smoothed)\",\n",
    "        \"Speed (histogram)\",\n",
    "        \"Cumulative Average Speed\",\n",
    "    ],\n",
    "    vertical_spacing=0.1,\n",
    "    horizontal_spacing=0.1,\n",
    ")\n",
    "x = metrics[mouse_id][\"timestamp\"]\n",
    "\n",
    "# first subplot\n",
    "y_1 = metrics[mouse_id][\"cumulative_distance_change\"]\n",
    "go_1 = go.Scatter(x=x, y=y_1, mode=\"lines\", name=\"Distance Moved\")\n",
    "fig.add_trace(go_1, row=1, col=1)\n",
    "fig.update_xaxes(title_text=\"Time (s)\", row=1, col=1)\n",
    "fig.update_yaxes(title_text=\"Distance (pixel)\", row=1, col=1)\n",
    "\n",
    "# second subplot\n",
    "position = metrics[mouse_id][\"speed\"]\n",
    "go_2 = go.Scatter(x=x, y=position, mode=\"lines\", name=\"Speed\")\n",
    "fig.add_trace(go_2, row=1, col=2)\n",
    "fig.update_xaxes(title_text=\"Time (s)\", row=1, col=2)\n",
    "fig.update_yaxes(title_text=\"Speed (pixel/s)\", row=1, col=2)\n",
    "\n",
    "# third subplot\n",
    "y_3 = moving_average(metrics[mouse_id][\"speed\"], 25)\n",
    "go_3 = go.Scatter(x=x, y=y_3, mode=\"lines\", name=\"Speed (Smoothed)\")\n",
    "fig.add_trace(go_3, row=2, col=1)\n",
    "fig.update_xaxes(title_text=\"Time (s)\", row=2, col=1)\n",
    "fig.update_yaxes(title_text=\"Speed (pixel/s)\", row=2, col=1)\n",
    "\n",
    "# fourth subplot\n",
    "y_4 = metrics[mouse_id][\"speed\"]\n",
    "go_4 = go.Histogram(x=y_4, xbins=dict(size=1), name=\"Speed (histogram)\")\n",
    "fig.add_trace(go_4, row=2, col=2)\n",
    "fig.update_xaxes(title_text=\"Speed (pixel/s)\", row=2, col=2)\n",
    "fig.update_yaxes(title_text=\"Frequency\", row=2, col=2)\n",
    "\n",
    "#  fifth subplot\n",
    "y_5 = metrics[mouse_id][\"average_speed\"]\n",
    "go_5 = go.Scatter(x=x, y=y_5, mode=\"lines\", name=\"Cumulative Average Speed\")\n",
    "fig.add_trace(go_5, row=3, col=1)\n",
    "fig.update_xaxes(title_text=\"Time (s)\", row=3, col=1)\n",
    "fig.update_yaxes(title_text=\"Speed (pixel/s)\", row=3, col=1)\n",
    "\n",
    "fig.update_layout(title=\"Movement Metrics\", height=1000, width=1000, showlegend=False)\n",
    "fig.show()"
   ]
  },
  {
   "cell_type": "markdown",
   "metadata": {},
   "source": [
    "방향 metrics 시각화 - 각도, 누적 각도 변화, 각속도"
   ]
  },
  {
   "cell_type": "code",
   "execution_count": null,
   "metadata": {},
   "outputs": [],
   "source": [
    "mouse_id = ids[0]\n",
    "\n",
    "# subplot for ploty\n",
    "n_rows, n_cols = 3, 2\n",
    "fig = make_subplots(\n",
    "    rows=n_rows,\n",
    "    cols=n_cols,\n",
    "    subplot_titles=[\n",
    "        \"Body Angle\",\n",
    "        \"Angular Speed\",\n",
    "        \"Angular Speed (Smoothed)\",\n",
    "        \"Body Angle (histogram)\",\n",
    "        \"Angular Speed (histogram)\",\n",
    "    ],\n",
    "    vertical_spacing=0.1,\n",
    "    horizontal_spacing=0.1,\n",
    ")\n",
    "\n",
    "x = metrics[mouse_id][\"timestamp\"]\n",
    "\n",
    "# first subplot\n",
    "y_1 = metrics[mouse_id][\"angle\"]\n",
    "t_1 = \"Body Angle\"\n",
    "go_1 = go.Scatter(x=x, y=y_1, mode=\"lines\", name=\"Body Angle\")\n",
    "fig.add_trace(go_1, row=1, col=1)\n",
    "fig.update_xaxes(title_text=\"Time (s)\", row=1, col=1)\n",
    "fig.update_yaxes(title_text=\"Angle (degree)\", row=1, col=1)\n",
    "\n",
    "# second subplot\n",
    "position = metrics[mouse_id][\"angular_speed\"]\n",
    "go_2 = go.Scatter(x=x, y=position, mode=\"lines\", name=\"Angular Speed\")\n",
    "fig.add_trace(go_2, row=1, col=2)\n",
    "fig.update_xaxes(title_text=\"Time (s)\", row=1, col=2)\n",
    "fig.update_yaxes(title_text=\"Angular Speed (degree/s)\", row=1, col=2)\n",
    "\n",
    "# third subplot\n",
    "y_3 = moving_average(metrics[mouse_id][\"angular_speed\"], 25)\n",
    "go_3 = go.Scatter(x=x, y=y_3, mode=\"lines\", name=\"Angular Speed (Smoothed)\")\n",
    "fig.add_trace(go_3, row=2, col=1)\n",
    "fig.update_xaxes(title_text=\"Time (s)\", row=2, col=1)\n",
    "fig.update_yaxes(title_text=\"Angular Speed (degree/s)\", row=2, col=1)\n",
    "\n",
    "# fourth subplot\n",
    "y_4 = metrics[mouse_id][\"angle\"]\n",
    "go_4 = go.Histogram(x=y_4, xbins=dict(size=1), name=\"Body Angle (histogram)\")\n",
    "fig.add_trace(go_4, row=2, col=2)\n",
    "fig.update_xaxes(title_text=\"Angle (degree)\", row=2, col=2)\n",
    "fig.update_yaxes(title_text=\"Frequency\", row=2, col=2)\n",
    "\n",
    "# fifth subplot\n",
    "y_5 = metrics[mouse_id][\"angular_speed\"]\n",
    "go_5 = go.Histogram(x=y_5, xbins=dict(size=1), name=\"Angular Speed (histogram)\")\n",
    "fig.add_trace(go_5, row=3, col=1)\n",
    "fig.update_xaxes(title_text=\"Angular Speed (degree/s)\", row=3, col=1)\n",
    "fig.update_yaxes(title_text=\"Frequency\", row=3, col=1)\n",
    "\n",
    "fig.update_layout(title=\"Direction Metrics\", height=1000, width=1000, showlegend=False)\n",
    "fig.show()"
   ]
  },
  {
   "cell_type": "markdown",
   "metadata": {},
   "source": [
    "위치 metrics 시각화 - trajectory 및 히트맵"
   ]
  },
  {
   "cell_type": "code",
   "execution_count": null,
   "metadata": {},
   "outputs": [],
   "source": [
    "import numpy as np\n",
    "\n",
    "mouse_id = ids[0]\n",
    "\n",
    "n_rows, n_cols = 1, 2\n",
    "fig = make_subplots(\n",
    "    rows=n_rows,\n",
    "    cols=n_cols,\n",
    "    subplot_titles=[\"Trajectory\", \"Heatmap\"],\n",
    "    vertical_spacing=0.1,\n",
    "    horizontal_spacing=0.1,\n",
    ")\n",
    "\n",
    "position = np.array(metrics[mouse_id][\"position\"])\n",
    "timestamp = metrics[mouse_id][\"timestamp\"]\n",
    "\n",
    "# first subplot\n",
    "num_points = len(position)\n",
    "colors = np.linspace(0, 1, num_points - 1)\n",
    "fig.add_trace(\n",
    "    go.Scatter(\n",
    "        x=position[:, 0],\n",
    "        y=position[:, 1],\n",
    "        mode=\"markers+lines\",\n",
    "        marker=dict(\n",
    "            size=4,\n",
    "            color=timestamp,\n",
    "            colorscale=\"Viridis\",\n",
    "            colorbar=dict(title=\"Time (s)\", x=0.40),\n",
    "        ),\n",
    "        line=dict(color=\"rgba(0,0,0,0.3)\"),\n",
    "        showlegend=False,\n",
    "    ),\n",
    "    row=1,\n",
    "    col=1,\n",
    ")\n",
    "\n",
    "# second subplot\n",
    "go_2 = go.Histogram2d(\n",
    "    x=position[:, 0],\n",
    "    y=position[:, 1],\n",
    "    name=\"Heatmap\",\n",
    "    nbinsx=50,\n",
    "    nbinsy=50,\n",
    "    colorbar=dict(title=\"Count\", x=1),\n",
    ")\n",
    "fig.add_trace(go_2, row=1, col=2)\n",
    "\n",
    "fig.update_layout(title=\"Position Metrics\", height=500, width=1000, showlegend=False)\n",
    "fig.show()"
   ]
  },
  {
   "cell_type": "code",
   "execution_count": null,
   "metadata": {},
   "outputs": [],
   "source": []
  }
 ],
 "metadata": {
  "kernelspec": {
   "display_name": "Python 3",
   "language": "python",
   "name": "python3"
  },
  "language_info": {
   "codemirror_mode": {
    "name": "ipython",
    "version": 3
   },
   "file_extension": ".py",
   "mimetype": "text/x-python",
   "name": "python",
   "nbconvert_exporter": "python",
   "pygments_lexer": "ipython3",
   "version": "3.10.12"
  }
 },
 "nbformat": 4,
 "nbformat_minor": 2
}
